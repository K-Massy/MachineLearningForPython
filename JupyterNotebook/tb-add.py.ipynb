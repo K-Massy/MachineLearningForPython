{
 "cells": [
  {
   "cell_type": "code",
   "execution_count": 3,
   "metadata": {},
   "outputs": [
    {
     "name": "stdout",
     "output_type": "stream",
     "text": [
      "60100\n"
     ]
    }
   ],
   "source": [
    "import tensorflow as tf\n",
    "\n",
    "# 定数や変数を宣言\n",
    "a = tf.constant(100, name=\"a\")\n",
    "b = tf.constant(200, name=\"b\")\n",
    "c = tf.constant(300, name=\"c\")\n",
    "v = tf.Variable(0, name=\"v\")\n",
    "\n",
    "# 計算を行うグラフを定義\n",
    "calc_op = a + b * c\n",
    "assign_op = tf.assign(v, calc_op)\n",
    "\n",
    "# セッションを生成\n",
    "sess = tf.Session()\n",
    "\n",
    "# TensorBoardを使う\n",
    "# SummaryWriterは廃止になったため、tf.summary.FileWriterを使用する\n",
    "# (参考：http://kuroyagi.hatenablog.com/entry/2017/02/28/001233)\n",
    "#tw = tf.train.SummaryWriter(\"log_dir\", graph=sess.graph)\n",
    "tw = tf.summary.FileWriter(\"log_dir\", graph=sess.graph)\n",
    "\n",
    "# セッションを実行する\n",
    "sess.run(assign_op)\n",
    "print(sess.run(v))"
   ]
  },
  {
   "cell_type": "code",
   "execution_count": null,
   "metadata": {
    "collapsed": true
   },
   "outputs": [],
   "source": []
  }
 ],
 "metadata": {
  "kernelspec": {
   "display_name": "Python 3",
   "language": "python",
   "name": "python3"
  },
  "language_info": {
   "codemirror_mode": {
    "name": "ipython",
    "version": 3
   },
   "file_extension": ".py",
   "mimetype": "text/x-python",
   "name": "python",
   "nbconvert_exporter": "python",
   "pygments_lexer": "ipython3",
   "version": "3.6.1"
  }
 },
 "nbformat": 4,
 "nbformat_minor": 2
}
