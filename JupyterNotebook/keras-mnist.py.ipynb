{
 "cells": [
  {
   "cell_type": "code",
   "execution_count": 7,
   "metadata": {},
   "outputs": [
    {
     "name": "stdout",
     "output_type": "stream",
     "text": [
      "Epoch 1/10\n",
      "60000/60000 [==============================] - 34s - loss: 0.2148 - acc: 0.9341    \n",
      "Epoch 2/10\n",
      "60000/60000 [==============================] - 34s - loss: 0.1037 - acc: 0.9677    \n",
      "Epoch 3/10\n",
      "60000/60000 [==============================] - 34s - loss: 0.0799 - acc: 0.9751    \n",
      "Epoch 4/10\n",
      "60000/60000 [==============================] - 34s - loss: 0.0659 - acc: 0.9796    \n",
      "Epoch 5/10\n",
      "60000/60000 [==============================] - 34s - loss: 0.0603 - acc: 0.9812    \n",
      "Epoch 6/10\n",
      "60000/60000 [==============================] - 34s - loss: 0.0476 - acc: 0.9851    \n",
      "Epoch 7/10\n",
      "60000/60000 [==============================] - 34s - loss: 0.0488 - acc: 0.9854    \n",
      "Epoch 8/10\n",
      "60000/60000 [==============================] - 34s - loss: 0.0420 - acc: 0.9872    \n",
      "Epoch 9/10\n",
      "60000/60000 [==============================] - 34s - loss: 0.0418 - acc: 0.9874    \n",
      "Epoch 10/10\n",
      "60000/60000 [==============================] - 34s - loss: 0.0374 - acc: 0.9889    \n",
      " 9536/10000 [===========================>..] - ETA: 0sloss= 0.0749923415999\n",
      "accuracy= 0.982\n"
     ]
    }
   ],
   "source": [
    "from keras.datasets import mnist\n",
    "from keras.models import Sequential\n",
    "from keras.layers.core import Dense, Dropout, Activation\n",
    "from keras.optimizers import Adam\n",
    "from keras.utils import np_utils\n",
    "\n",
    "# MNISTのデータを読み込む\n",
    "(X_train, y_train), (X_test, y_test) = mnist.load_data()\n",
    "\n",
    "# データをfloat32型に変換して正規化する\n",
    "X_train = X_train.reshape(60000, 784).astype('float32')\n",
    "X_test = X_test.reshape(10000, 784).astype('float')\n",
    "X_train /= 255\n",
    "X_test  /=255\n",
    "# ラベルデータを0-9までのカテゴリを表す配列に変換\n",
    "y_train = np_utils.to_categorical(y_train, 10)\n",
    "y_test = np_utils.to_categorical(y_test, 10)\n",
    "\n",
    "# モデルの構造を定義\n",
    "model = Sequential()\n",
    "model.add(Dense(512, input_shape=(784,)))\n",
    "model.add(Activation('relu'))\n",
    "model.add(Dropout(0.2))\n",
    "\n",
    "model.add(Dense(512))\n",
    "model.add(Activation('relu'))\n",
    "model.add(Dropout(0.2))\n",
    "\n",
    "model.add(Dense(10))\n",
    "model.add(Activation('softmax'))\n",
    "\n",
    "# モデルを構築\n",
    "model.compile(\n",
    "    loss='categorical_crossentropy',\n",
    "    optimizer=Adam(),\n",
    "    metrics=['accuracy'])\n",
    "\n",
    "# データで訓練\n",
    "hist = model.fit(X_train, y_train)\n",
    "\n",
    "# テストデータを用いて評価する\n",
    "score = model.evaluate(X_test, y_test, verbose=1)\n",
    "print('loss=', score[0])\n",
    "print('accuracy=', score[1])"
   ]
  },
  {
   "cell_type": "code",
   "execution_count": null,
   "metadata": {
    "collapsed": true
   },
   "outputs": [],
   "source": []
  }
 ],
 "metadata": {
  "kernelspec": {
   "display_name": "Python 3",
   "language": "python",
   "name": "python3"
  },
  "language_info": {
   "codemirror_mode": {
    "name": "ipython",
    "version": 3
   },
   "file_extension": ".py",
   "mimetype": "text/x-python",
   "name": "python",
   "nbconvert_exporter": "python",
   "pygments_lexer": "ipython3",
   "version": "3.6.1"
  }
 },
 "nbformat": 4,
 "nbformat_minor": 2
}
