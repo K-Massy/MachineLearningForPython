{
 "cells": [
  {
   "cell_type": "code",
   "execution_count": 10,
   "metadata": {},
   "outputs": [
    {
     "name": "stderr",
     "output_type": "stream",
     "text": [
      "C:\\Users\\kmashiko\\Anaconda3\\lib\\site-packages\\keras\\models.py:844: UserWarning: The `nb_epoch` argument in `fit` has been renamed `epochs`.\n",
      "  warnings.warn('The `nb_epoch` argument in `fit` '\n"
     ]
    },
    {
     "name": "stdout",
     "output_type": "stream",
     "text": [
      "Train on 13500 samples, validate on 1500 samples\n",
      "Epoch 1/20\n",
      "13500/13500 [==============================] - 1s - loss: 0.5087 - acc: 0.7994 - val_loss: 0.2686 - val_acc: 0.9220\n",
      "Epoch 2/20\n",
      "13500/13500 [==============================] - 1s - loss: 0.2488 - acc: 0.9033 - val_loss: 0.1569 - val_acc: 0.9607\n",
      "Epoch 3/20\n",
      "13500/13500 [==============================] - 1s - loss: 0.1929 - acc: 0.9201 - val_loss: 0.1907 - val_acc: 0.9033\n",
      "Epoch 4/20\n",
      "13500/13500 [==============================] - 1s - loss: 0.1661 - acc: 0.9290 - val_loss: 0.1006 - val_acc: 0.9720\n",
      "Epoch 5/20\n",
      "13500/13500 [==============================] - 1s - loss: 0.1491 - acc: 0.9333 - val_loss: 0.1014 - val_acc: 0.9600\n",
      "Epoch 6/20\n",
      "13500/13500 [==============================] - 1s - loss: 0.1417 - acc: 0.9381 - val_loss: 0.0828 - val_acc: 0.9727\n",
      "Epoch 7/20\n",
      "13500/13500 [==============================] - 1s - loss: 0.1323 - acc: 0.9421 - val_loss: 0.2270 - val_acc: 0.8933\n",
      "Epoch 8/20\n",
      "13500/13500 [==============================] - 1s - loss: 0.1284 - acc: 0.9450 - val_loss: 0.1640 - val_acc: 0.9180\n",
      "Epoch 9/20\n",
      "13500/13500 [==============================] - 1s - loss: 0.1261 - acc: 0.9459 - val_loss: 0.0846 - val_acc: 0.9633\n",
      "3936/4999 [======================>.......] - ETA: 0sloss= 0.0894814196659\n",
      "accuracy= 0.960392078428\n"
     ]
    }
   ],
   "source": [
    "from keras.models import Sequential\n",
    "from keras.layers.core import Dense, Dropout, Activation\n",
    "from keras.callbacks import EarlyStopping\n",
    "import pandas as pd, numpy as np\n",
    "\n",
    "# BMIのデータを読み込んで正規化する\n",
    "csv=pd.read_csv(\"bmi.csv\")\n",
    "# 体重と身長のデータ\n",
    "csv[\"weight\"] /= 100\n",
    "csv[\"height\"] /= 200\n",
    "X = csv[[\"weight\", \"height\"]].as_matrix()\n",
    "# ラベル\n",
    "bclass = {\"thin\": [1,0,0], \"normal\": [0,1,0], \"fat\": [0,0,1]}\n",
    "y = np.empty((20000, 3))\n",
    "for i, v in enumerate(csv[\"label\"]):\n",
    "    y[i] = bclass[v]\n",
    "\n",
    "# 訓練データとテストデータを分ける\n",
    "X_train, y_train = X[1:15001], y[1:15001]\n",
    "X_test, y_test = X[15001:20001], y[15001:20001]\n",
    "\n",
    "# モデルの構造を定義\n",
    "model = Sequential()\n",
    "model.add(Dense(512, input_shape=(2,)))\n",
    "model.add(Activation('relu'))\n",
    "model.add(Dropout(0.1))\n",
    "             \n",
    "model.add(Dense(512))\n",
    "model.add(Activation('relu'))\n",
    "model.add(Dropout(0.1))\n",
    "             \n",
    "model.add(Dense(3))\n",
    "model.add(Activation('softmax'))\n",
    "\n",
    "# モデルを構築\n",
    "model.compile(\n",
    "    loss='categorical_crossentropy',\n",
    "    optimizer=\"rmsprop\",\n",
    "    metrics=['accuracy'])\n",
    "\n",
    "# データで訓練\n",
    "hist = model.fit(\n",
    "    X_train, y_train,\n",
    "    batch_size=100,\n",
    "    nb_epoch=20,\n",
    "    validation_split=0.1,\n",
    "    callbacks=[EarlyStopping(monitor='val_loss', patience=2)],\n",
    "    verbose=1)\n",
    "\n",
    "# テストデータを用いて評価する\n",
    "score = model.evaluate(X_test, y_test)\n",
    "print('loss=', score[0])\n",
    "print('accuracy=', score[1])"
   ]
  },
  {
   "cell_type": "code",
   "execution_count": null,
   "metadata": {
    "collapsed": true
   },
   "outputs": [],
   "source": []
  }
 ],
 "metadata": {
  "kernelspec": {
   "display_name": "Python 3",
   "language": "python",
   "name": "python3"
  },
  "language_info": {
   "codemirror_mode": {
    "name": "ipython",
    "version": 3
   },
   "file_extension": ".py",
   "mimetype": "text/x-python",
   "name": "python",
   "nbconvert_exporter": "python",
   "pygments_lexer": "ipython3",
   "version": "3.6.1"
  }
 },
 "nbformat": 4,
 "nbformat_minor": 2
}
